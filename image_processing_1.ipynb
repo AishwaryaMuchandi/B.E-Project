{
  "nbformat": 4,
  "nbformat_minor": 0,
  "metadata": {
    "colab": {
      "name": "image processing 1.ipynb",
      "provenance": [],
      "collapsed_sections": [],
      "include_colab_link": true
    },
    "kernelspec": {
      "name": "python3",
      "display_name": "Python 3"
    },
    "accelerator": "GPU"
  },
  "cells": [
    {
      "cell_type": "markdown",
      "metadata": {
        "id": "view-in-github",
        "colab_type": "text"
      },
      "source": [
        "<a href=\"https://colab.research.google.com/github/AishwaryaMuchandi/B.E-Project/blob/master/image_processing_1.ipynb\" target=\"_parent\"><img src=\"https://colab.research.google.com/assets/colab-badge.svg\" alt=\"Open In Colab\"/></a>"
      ]
    },
    {
      "cell_type": "code",
      "metadata": {
        "id": "AXYc9BCds4M9",
        "colab_type": "code",
        "outputId": "83846f71-7ec3-4951-ad1d-ba6058f74d5c",
        "colab": {
          "base_uri": "https://localhost:8080/",
          "height": 55
        }
      },
      "source": [
        "from google.colab import drive\n",
        "drive.mount('/content/drive')"
      ],
      "execution_count": 0,
      "outputs": [
        {
          "output_type": "stream",
          "text": [
            "Drive already mounted at /content/drive; to attempt to forcibly remount, call drive.mount(\"/content/drive\", force_remount=True).\n"
          ],
          "name": "stdout"
        }
      ]
    },
    {
      "cell_type": "code",
      "metadata": {
        "id": "RAY9vb5btN74",
        "colab_type": "code",
        "colab": {}
      },
      "source": [
        "import cv2\n",
        "import numpy as np\n",
        "import os\n",
        "import imutils\n",
        "from imutils.video import FPS"
      ],
      "execution_count": 0,
      "outputs": []
    },
    {
      "cell_type": "code",
      "metadata": {
        "id": "-3OyIIgctU0T",
        "colab_type": "code",
        "outputId": "c2282b49-ad34-486b-9f60-df4191b5bed0",
        "colab": {
          "base_uri": "https://localhost:8080/",
          "height": 87
        }
      },
      "source": [
        "print(os.getcwd())\n",
        "print(os.name)\n",
        "print(os.path)\n",
        "os.listdir()\n",
        "#os.removedirs(\"data\")\n"
      ],
      "execution_count": 0,
      "outputs": [
        {
          "output_type": "stream",
          "text": [
            "/content\n",
            "posix\n",
            "<module 'posixpath' from '/usr/lib/python3.6/posixpath.py'>\n"
          ],
          "name": "stdout"
        },
        {
          "output_type": "execute_result",
          "data": {
            "text/plain": [
              "['.config', 'drive', 'sample_data']"
            ]
          },
          "metadata": {
            "tags": []
          },
          "execution_count": 9
        }
      ]
    },
    {
      "cell_type": "code",
      "metadata": {
        "id": "KLHol2DPYupu",
        "colab_type": "code",
        "colab": {}
      },
      "source": [
        "cap = cv2.VideoCapture('/My Drive/Colab Notebooks/MOV_0399.mp4')\n",
        "fps = FPS().start()"
      ],
      "execution_count": 0,
      "outputs": []
    },
    {
      "cell_type": "code",
      "metadata": {
        "id": "lEpUKww-QFUI",
        "colab_type": "code",
        "colab": {}
      },
      "source": [
        "try:\n",
        "    if not os.path.exists('data2'):\n",
        "        os.makedirs('data2')\n",
        "except OSError:\n",
        "    print ('Error: Creating directory of data')"
      ],
      "execution_count": 0,
      "outputs": []
    },
    {
      "cell_type": "code",
      "metadata": {
        "id": "wHitvw7oF8rE",
        "colab_type": "code",
        "outputId": "333170d0-1a1e-477d-ffec-35828d9df395",
        "colab": {
          "base_uri": "https://localhost:8080/",
          "height": 104
        }
      },
      "source": [
        "currentFrame = 0\n",
        "thresh=[]\n",
        "num_frames = 5\n",
        "for currentFrame in range(0,num_frames):\n",
        "    (ret,frame) = cap.read()\n",
        "    name = './data2/frame' + str(currentFrame) + '.jpg'\n",
        "    print ('Creating...' + name)\n",
        "\n",
        "    #thresh[currentFrame]=frame\n",
        "    cv2.imwrite(name, frame)\n",
        "    currentFrame += 1\n",
        "\n",
        "#titles =[\"Frame 0\",\"Frame 1\",\"Frame 2\",\"Frame 3\",\"Frame 4\"]\n",
        "#images = [thresh[0],thresh[1],thresh[2],thresh[3],thresh[4]]\n",
        "#for i in range(6):\n",
        "#\tplt.subplot(2,3,i+1),plt.imshow(,'gray')\n",
        "#\tplt.title(titles[i])\n",
        "#\tplt.xticks([]),plt.yticks([])\n",
        "#plt.show()\n",
        "\n",
        "cap.release()\n",
        "cv2.destroyAllWindows()\n"
      ],
      "execution_count": 0,
      "outputs": [
        {
          "output_type": "stream",
          "text": [
            "Creating..../data2/frame0.jpg\n",
            "Creating..../data2/frame1.jpg\n",
            "Creating..../data2/frame2.jpg\n",
            "Creating..../data2/frame3.jpg\n",
            "Creating..../data2/frame4.jpg\n"
          ],
          "name": "stdout"
        }
      ]
    }
  ]
}